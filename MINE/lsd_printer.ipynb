{
 "cells": [
  {
   "cell_type": "code",
   "execution_count": 15,
   "metadata": {},
   "outputs": [],
   "source": [
    "from torch.utils.data import DataLoader\n",
    "import utils_2D\n",
    "\n",
    "from glob import glob\n",
    "import os\n",
    "\n",
    "import tifffile"
   ]
  },
  {
   "cell_type": "code",
   "execution_count": null,
   "metadata": {},
   "outputs": [],
   "source": [
    "train_dataset = utils_2D.CellDataset_single(\n",
    "    image_dir='/group/jug/Enrico/TISSUE_roi_projection/training/*_GFP_max_clahe.tif',\n",
    "    mask_dir='/group/jug/Enrico/TISSUE_roi_projection/training/*_CELL_manual.tif',\n",
    "    crop_size=1024,\n",
    "    split='train',\n",
    "    input_type='raw', output_type='lsds',\n",
    "    sigma = 15,\n",
    "    aug = False)\n",
    "\n",
    "valid_dataset = utils_2D.CellDataset_single(\n",
    "    image_dir='/group/jug/Enrico/TISSUE_roi_projection/validation/*_GFP_max_clahe.tif',\n",
    "    mask_dir='/group/jug/Enrico/TISSUE_roi_projection/validation/*_CELL_manual.tif',\n",
    "    crop_size=1024,\n",
    "    split='train',\n",
    "    input_type='raw', output_type='lsds',\n",
    "    sigma = 15,\n",
    "    aug = False)"
   ]
  },
  {
   "cell_type": "code",
   "execution_count": 26,
   "metadata": {},
   "outputs": [
    {
     "name": "stdout",
     "output_type": "stream",
     "text": [
      "/group/jug/Enrico/TISSUE_roi_projection/training\n",
      "C3.1A_1b_CELL_manual_lsds.tif\n",
      "C3.1A_2a_CELL_manual_lsds.tif\n",
      "C3.1A_2b_CELL_manual_lsds.tif\n",
      "C3.2A_1b_CELL_manual_lsds.tif\n",
      "C4.1B_1a_CELL_manual_lsds.tif\n",
      "C4.1B_2a_CELL_manual_lsds.tif\n",
      "C4.1B_2b_CELL_manual_lsds.tif\n",
      "C4.1B_2c_CELL_manual_lsds.tif\n",
      "C4.1B_3a_CELL_manual_lsds.tif\n",
      "C4.1B_3b_CELL_manual_lsds.tif\n",
      "C4.1B_4a_CELL_manual_lsds.tif\n",
      "C4.1B_5a_CELL_manual_lsds.tif\n",
      "C4.2B_2a_CELL_manual_lsds.tif\n",
      "C4.2B_2b_CELL_manual_lsds.tif\n",
      "C4.2B_3a_CELL_manual_lsds.tif\n",
      "C4.3B_2a_CELL_manual_lsds.tif\n",
      "C4.3B_2c_CELL_manual_lsds.tif\n",
      "C4.3B_3a_CELL_manual_lsds.tif\n",
      "C4.3B_3b_CELL_manual_lsds.tif\n",
      "C4.3B_4a_CELL_manual_lsds.tif\n",
      "C4.3B_4b_CELL_manual_lsds.tif\n",
      "C4.4A_1a_CELL_manual_lsds.tif\n",
      "C4.4A_3b_CELL_manual_lsds.tif\n",
      "C4.4B_1a_CELL_manual_lsds.tif\n",
      "C4.4B_2a_CELL_manual_lsds.tif\n",
      "C4.4B_2b_CELL_manual_lsds.tif\n",
      "C4.4B_3a_CELL_manual_lsds.tif\n",
      "C4.4B_3b_CELL_manual_lsds.tif\n",
      "C4.5B_1a_CELL_manual_lsds.tif\n",
      "C4.5B_2a_CELL_manual_lsds.tif\n",
      "M5.1A_1a_CELL_manual_lsds.tif\n",
      "M5.1B_1a_CELL_manual_lsds.tif\n",
      "M5.1C_2a_CELL_manual_lsds.tif\n",
      "M5.1D_2a_CELL_manual_lsds.tif\n",
      "M9.1B_4a_CELL_manual_lsds.tif\n",
      "M9.1B_4b_CELL_manual_lsds.tif\n",
      "M9.3A_3b_CELL_manual_lsds.tif\n",
      "M9.3A_4a_CELL_manual_lsds.tif\n",
      "M9.3A_4b_CELL_manual_lsds.tif\n",
      "M9.3A_6a_CELL_manual_lsds.tif\n"
     ]
    }
   ],
   "source": [
    "train_loader = DataLoader(train_dataset)\n",
    "\n",
    "paths = sorted(glob('/group/jug/Enrico/TISSUE_roi_projection/training/*_CELL_manual.tif'))\n",
    "root = os.path.dirname(paths[0])\n",
    "print(root)\n",
    "\n",
    "for i, (raw, lsds) in enumerate(train_loader):\n",
    "    path = paths[i]\n",
    "    file_name = os.path.basename(path)\n",
    "    file_name = os.path.splitext(file_name)[0]\n",
    "    new_name = f'{file_name}_lsds.tif'\n",
    "\n",
    "    print(new_name)\n",
    "    lsds = lsds[0].numpy()\n",
    "\n",
    "    tifffile.imwrite(os.path.join(root, new_name), lsds)"
   ]
  },
  {
   "cell_type": "code",
   "execution_count": 27,
   "metadata": {},
   "outputs": [
    {
     "name": "stdout",
     "output_type": "stream",
     "text": [
      "/group/jug/Enrico/TISSUE_roi_projection/validation\n",
      "C3.2A_1a_CELL_manual_lsds.tif\n",
      "C3.2A_1c_CELL_manual_lsds.tif\n",
      "C4.2B_2c_CELL_manual_lsds.tif\n",
      "C4.2B_3b_CELL_manual_lsds.tif\n",
      "C4.4A_1b_CELL_manual_lsds.tif\n",
      "C4.4A_2b_CELL_manual_lsds.tif\n",
      "C4.4A_3c_CELL_manual_lsds.tif\n",
      "C4.4B_1b_CELL_manual_lsds.tif\n",
      "C4.5B_1b_CELL_manual_lsds.tif\n",
      "C4.5B_2b_CELL_manual_lsds.tif\n",
      "C4.5B_2c_CELL_manual_lsds.tif\n",
      "C4.5B_5a_CELL_manual_lsds.tif\n",
      "M10.2A_1a_CELL_manual_lsds.tif\n",
      "M5.1D_3a_CELL_manual_lsds.tif\n",
      "M9.2A_3a_CELL_manual_lsds.tif\n",
      "M9.2A_3b_CELL_manual_lsds.tif\n"
     ]
    }
   ],
   "source": [
    "valid_loader = DataLoader(valid_dataset)\n",
    "\n",
    "paths = sorted(glob('/group/jug/Enrico/TISSUE_roi_projection/validation/*_CELL_manual.tif'))\n",
    "root = os.path.dirname(paths[0])\n",
    "print(root)\n",
    "\n",
    "for i, (raw, lsds) in enumerate(valid_loader):\n",
    "    path = paths[i]\n",
    "    file_name = os.path.basename(path)\n",
    "    file_name = os.path.splitext(file_name)[0]\n",
    "    new_name = f'{file_name}_lsds.tif'\n",
    "\n",
    "    print(new_name)\n",
    "    lsds = lsds[0].numpy()\n",
    "\n",
    "    tifffile.imwrite(os.path.join(root, new_name), lsds)"
   ]
  }
 ],
 "metadata": {
  "kernelspec": {
   "display_name": "Python 3",
   "language": "python",
   "name": "python3"
  },
  "language_info": {
   "codemirror_mode": {
    "name": "ipython",
    "version": 3
   },
   "file_extension": ".py",
   "mimetype": "text/x-python",
   "name": "python",
   "nbconvert_exporter": "python",
   "pygments_lexer": "ipython3",
   "version": "3.10.16"
  }
 },
 "nbformat": 4,
 "nbformat_minor": 2
}
